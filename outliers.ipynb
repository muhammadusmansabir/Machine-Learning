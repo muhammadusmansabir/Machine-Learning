{
 "cells": [
  {
   "cell_type": "markdown",
   "metadata": {},
   "source": [
    "# By Using Z-Score Method"
   ]
  },
  {
   "cell_type": "code",
   "execution_count": 26,
   "metadata": {},
   "outputs": [],
   "source": [
    "# Step 1: Import the required libraries\n",
    "import pandas as pd\n",
    "import numpy as np\n",
    "from numpy import array\n",
    "\n",
    "data = {'Age': [20, 21, 22, 23, 24, 25,26, 27, 28, 29, 30, 50]}\n",
    "\n",
    "# Step 2: Create the data\n",
    "df = pd.DataFrame(data)"
   ]
  },
  {
   "cell_type": "code",
   "execution_count": 27,
   "metadata": {},
   "outputs": [],
   "source": [
    "# Step 3: Calculate the mean and standard deviation\n",
    "mean = np.mean(df['Age'])\n",
    "std = np.std(df['Age'])"
   ]
  },
  {
   "cell_type": "code",
   "execution_count": 28,
   "metadata": {},
   "outputs": [
    {
     "data": {
      "text/html": [
       "<div>\n",
       "<style scoped>\n",
       "    .dataframe tbody tr th:only-of-type {\n",
       "        vertical-align: middle;\n",
       "    }\n",
       "\n",
       "    .dataframe tbody tr th {\n",
       "        vertical-align: top;\n",
       "    }\n",
       "\n",
       "    .dataframe thead th {\n",
       "        text-align: right;\n",
       "    }\n",
       "</style>\n",
       "<table border=\"1\" class=\"dataframe\">\n",
       "  <thead>\n",
       "    <tr style=\"text-align: right;\">\n",
       "      <th></th>\n",
       "      <th>Age</th>\n",
       "      <th>Z-Score</th>\n",
       "    </tr>\n",
       "  </thead>\n",
       "  <tbody>\n",
       "    <tr>\n",
       "      <th>0</th>\n",
       "      <td>20</td>\n",
       "      <td>-0.938954</td>\n",
       "    </tr>\n",
       "    <tr>\n",
       "      <th>1</th>\n",
       "      <td>21</td>\n",
       "      <td>-0.806396</td>\n",
       "    </tr>\n",
       "    <tr>\n",
       "      <th>2</th>\n",
       "      <td>22</td>\n",
       "      <td>-0.673838</td>\n",
       "    </tr>\n",
       "    <tr>\n",
       "      <th>3</th>\n",
       "      <td>23</td>\n",
       "      <td>-0.541280</td>\n",
       "    </tr>\n",
       "    <tr>\n",
       "      <th>4</th>\n",
       "      <td>24</td>\n",
       "      <td>-0.408721</td>\n",
       "    </tr>\n",
       "    <tr>\n",
       "      <th>5</th>\n",
       "      <td>25</td>\n",
       "      <td>-0.276163</td>\n",
       "    </tr>\n",
       "    <tr>\n",
       "      <th>6</th>\n",
       "      <td>26</td>\n",
       "      <td>-0.143605</td>\n",
       "    </tr>\n",
       "    <tr>\n",
       "      <th>7</th>\n",
       "      <td>27</td>\n",
       "      <td>-0.011047</td>\n",
       "    </tr>\n",
       "    <tr>\n",
       "      <th>8</th>\n",
       "      <td>28</td>\n",
       "      <td>0.121512</td>\n",
       "    </tr>\n",
       "    <tr>\n",
       "      <th>9</th>\n",
       "      <td>29</td>\n",
       "      <td>0.254070</td>\n",
       "    </tr>\n",
       "    <tr>\n",
       "      <th>10</th>\n",
       "      <td>30</td>\n",
       "      <td>0.386628</td>\n",
       "    </tr>\n",
       "    <tr>\n",
       "      <th>11</th>\n",
       "      <td>50</td>\n",
       "      <td>3.037793</td>\n",
       "    </tr>\n",
       "  </tbody>\n",
       "</table>\n",
       "</div>"
      ],
      "text/plain": [
       "    Age   Z-Score\n",
       "0    20 -0.938954\n",
       "1    21 -0.806396\n",
       "2    22 -0.673838\n",
       "3    23 -0.541280\n",
       "4    24 -0.408721\n",
       "5    25 -0.276163\n",
       "6    26 -0.143605\n",
       "7    27 -0.011047\n",
       "8    28  0.121512\n",
       "9    29  0.254070\n",
       "10   30  0.386628\n",
       "11   50  3.037793"
      ]
     },
     "execution_count": 28,
     "metadata": {},
     "output_type": "execute_result"
    }
   ],
   "source": [
    "df['Z-Score'] = (df['Age'] - mean) / std\n",
    "df"
   ]
  },
  {
   "cell_type": "code",
   "execution_count": 29,
   "metadata": {},
   "outputs": [
    {
     "name": "stdout",
     "output_type": "stream",
     "text": [
      "----------------------------------------\n",
      "Here is the data with outliers:\n",
      "     Age   Z-Score\n",
      "0    20 -0.938954\n",
      "1    21 -0.806396\n",
      "2    22 -0.673838\n",
      "3    23 -0.541280\n",
      "4    24 -0.408721\n",
      "5    25 -0.276163\n",
      "6    26 -0.143605\n",
      "7    27 -0.011047\n",
      "8    28  0.121512\n",
      "9    29  0.254070\n",
      "10   30  0.386628\n",
      "11   50  3.037793\n",
      "----------------------------------------\n",
      "Here are the outliers based on the z-score threshold, 3:\n",
      "     Age   Z-Score\n",
      "11   50  3.037793\n",
      "----------------------------------------\n",
      "Here is the data without outliers:\n",
      "     Age   Z-Score\n",
      "0    20 -0.938954\n",
      "1    21 -0.806396\n",
      "2    22 -0.673838\n",
      "3    23 -0.541280\n",
      "4    24 -0.408721\n",
      "5    25 -0.276163\n",
      "6    26 -0.143605\n",
      "7    27 -0.011047\n",
      "8    28  0.121512\n",
      "9    29  0.254070\n",
      "10   30  0.386628\n"
     ]
    }
   ],
   "source": [
    "# Step 5: Print the data\n",
    "print(\"----------------------------------------\")\n",
    "print(f\"Here is the data with outliers:\\n {df}\")\n",
    "print(\"----------------------------------------\")\n",
    "# Step 6: Print the outliers\n",
    "print(f\"Here are the outliers based on the z-score threshold, 3:\\n {df[df['Z-Score'] > 3]}\")\n",
    "print(\"----------------------------------------\")\n",
    "# Step 7: Remove the outliers\n",
    "df = df[df['Z-Score'] <= 3]\n",
    "\n",
    "# Step 8: Print the data without outliers\n",
    "print(f\"Here is the data without outliers:\\n {df}\")"
   ]
  },
  {
   "cell_type": "markdown",
   "metadata": {},
   "source": [
    "# Z-score method using scipy"
   ]
  },
  {
   "cell_type": "code",
   "execution_count": 46,
   "metadata": {},
   "outputs": [],
   "source": [
    "# Import libraries\n",
    "import numpy as np\n",
    "from scipy import stats"
   ]
  },
  {
   "cell_type": "code",
   "execution_count": 47,
   "metadata": {},
   "outputs": [
    {
     "name": "stdout",
     "output_type": "stream",
     "text": [
      "----------------------------------------\n",
      "Data: [2.5, 2.7, 2.8, 3.0, 3.2, 3.4, 3.6, 3.8, 4.0, 110.0]\n",
      "----------------------------------------\n",
      "Indices of Outliers: [9]\n",
      "Outliers: [110.0]\n",
      "----------------------------------------\n",
      "Data without outliers: [2.5, 2.7, 2.8, 3.0, 3.2, 3.4, 3.6, 3.8, 4.0]\n"
     ]
    }
   ],
   "source": [
    "# Sample data\n",
    "data = [2.5, 2.7, 2.8, 3.0, 3.2, 3.4, 3.6, 3.8, 4.0, 110.0]\n",
    "\n",
    "# Calculate the Z-score for each data point\n",
    "z_scores = np.abs(stats.zscore(data))\n",
    "\n",
    "# Set a threshold for identifying outliers\n",
    "threshold = 2.5 \n",
    "outliers = np.where(z_scores > threshold)[0]\n",
    "\n",
    "# print the data\n",
    "print(\"----------------------------------------\")\n",
    "print(\"Data:\", data)\n",
    "print(\"----------------------------------------\")\n",
    "\n",
    "print(\"Indices of Outliers:\", outliers)\n",
    "print(\"Outliers:\", [data[i] for i in outliers])\n",
    "\n",
    "# Remove outliers\n",
    "data = [data[i] for i in range(len(data)) if i not in outliers]\n",
    "print(\"----------------------------------------\")\n",
    "print(\"Data without outliers:\", data)"
   ]
  },
  {
   "cell_type": "markdown",
   "metadata": {},
   "source": [
    "# By Using IQR (Inter Quartile Range)"
   ]
  },
  {
   "cell_type": "code",
   "execution_count": 3,
   "metadata": {},
   "outputs": [],
   "source": [
    "# Step 1: Import the required libraries\n",
    "import pandas as pd\n",
    "import numpy as np\n",
    "import matplotlib.pyplot as plt\n",
    "import seaborn as sns"
   ]
  },
  {
   "cell_type": "code",
   "execution_count": 6,
   "metadata": {},
   "outputs": [
    {
     "data": {
      "text/plain": [
       "array([135.28104692, 108.00314417, 119.57475968, 144.81786398,\n",
       "       137.3511598 ,  80.4544424 , 119.00176835,  96.97285583,\n",
       "        97.93562296, 108.21197004, 102.88087142, 129.08547014,\n",
       "       115.2207545 , 102.43350033, 108.87726465, 106.67348655,\n",
       "       129.88158146,  95.89683472, 106.26135403,  82.91808521,\n",
       "        48.94020368, 113.07237191, 117.28872398,  85.15669959,\n",
       "       145.39509248,  70.91268651, 100.91517035,  96.256323  ,\n",
       "       130.65558429, 129.3871754 , 103.09894851, 107.56325039,\n",
       "        82.24428505,  60.38407064,  93.04175701, 103.12697938,\n",
       "       124.60581361, 124.04759698,  92.25346365,  93.95394499,\n",
       "        79.0289407 ,  71.59964126,  65.87459619, 139.0155079 ,\n",
       "        89.80695636,  91.23851397,  74.9440928 , 115.54980712,\n",
       "        67.72204305,  95.7451944 ,  82.09066878, 107.73804996,\n",
       "        89.78389725,  76.38735632,  99.43635543, 108.56663741,\n",
       "       101.33034445, 106.04943795,  87.31355813,  92.74517668,\n",
       "        86.55079104,  92.80893677,  83.73707436,  65.47434795,\n",
       "       103.54852285,  91.96438128,  67.39603306, 109.25564511,\n",
       "        81.85403271, 101.03890792, 114.58181124, 102.57965822,\n",
       "       122.78801369,  75.30348359, 108.04683282,  86.30379818,\n",
       "        82.58405702,  88.4230067 ,  93.76894936, 101.12330684,\n",
       "        76.69700318, 118.01652974, 109.31324879,  69.27512627,\n",
       "       129.76504388, 137.91778352, 123.57559142,  96.40150328,\n",
       "        78.58494757, 121.08903454,  91.93646106, 124.44890141,\n",
       "       104.16549956, 119.53278073, 107.12732794, 114.13146336,\n",
       "       100.21000041, 135.71740988, 102.53824185, 108.03978727,\n",
       "       137.66301394,  73.04481878,  74.59030003, 119.38793416,\n",
       "        76.5375319 , 138.87242371,  91.72762038,  85.05090377,\n",
       "       138.45884053, 129.61029583, 137.35117921, 118.12089317,\n",
       "        82.7754863 , 138.20129906,  94.63993258, 116.04912792,\n",
       "       118.94503936,  96.89979814, 112.28158741, 118.44413343,\n",
       "       107.52851062,  78.01198419, 105.96476348, 126.52771793,\n",
       "        86.10864281,  97.00730919,  91.29692897, 136.98527457,\n",
       "       113.44589514, 108.14923672,  84.60167851, 110.78498383,\n",
       "        86.51334679, 100.63661117,  87.28307843, 113.5286659 ,\n",
       "       111.53181633,  95.83402489, 107.92013425,  78.13876983,\n",
       "        70.17484815, 108.78783403, 103.33346991, 112.70062874,\n",
       "       147.6628955 , 118.88958974,  81.74355549, 122.34032576,\n",
       "        73.68185179,  90.7683079 ,  98.63516789, 134.26685443,\n",
       "        85.10490356,  83.47122923,  98.03094951,  86.73043427,\n",
       "       122.53271844,  78.40136983,  77.05062695,  91.24359911,\n",
       "        90.03935099, 138.59064108, 118.98841614, 101.75102483,\n",
       "        75.49128962, 116.88725953,  79.99569305,  69.10457806,\n",
       "       123.76059585, 106.33885224, 118.41717648, 106.37455306,\n",
       "       117.13661224,  86.97948813,  79.31514316, 113.63189037,\n",
       "        83.93180672,  86.20900444,  90.88934993, 100.34958318,\n",
       "        92.92012177,  72.50097413,  87.12763194,  55.53193696,\n",
       "       112.50462902,  67.95884689,  77.91233321, 101.04330159,\n",
       "        85.20874007, 130.86029191,  74.14286181, 105.34101739,\n",
       "        99.21434364,  76.63813005, 110.46553321,  96.56907338,\n",
       "       115.43581102, 116.47008308, 143.26471899, 126.73055899,\n",
       "       300.        ,   5.        ])"
      ]
     },
     "execution_count": 6,
     "metadata": {},
     "output_type": "execute_result"
    }
   ],
   "source": [
    "# Step 2: Dataset \n",
    "np.random.seed(0)\n",
    "data = np.random.normal(100,20,200)\n",
    "data = np.append(data, [300,5]) # Potential Outliers Adding here\n",
    "data\n"
   ]
  },
  {
   "cell_type": "code",
   "execution_count": 7,
   "metadata": {},
   "outputs": [
    {
     "data": {
      "text/plain": [
       "array([135.28104692, 108.00314417, 119.57475968, 144.81786398,\n",
       "       137.3511598 ,  80.4544424 , 119.00176835,  96.97285583,\n",
       "        97.93562296, 108.21197004, 102.88087142, 129.08547014,\n",
       "       115.2207545 , 102.43350033, 108.87726465, 106.67348655,\n",
       "       129.88158146,  95.89683472, 106.26135403,  82.91808521,\n",
       "        48.94020368, 113.07237191, 117.28872398,  85.15669959,\n",
       "       145.39509248,  70.91268651, 100.91517035,  96.256323  ,\n",
       "       130.65558429, 129.3871754 , 103.09894851, 107.56325039,\n",
       "        82.24428505,  60.38407064,  93.04175701, 103.12697938,\n",
       "       124.60581361, 124.04759698,  92.25346365,  93.95394499,\n",
       "        79.0289407 ,  71.59964126,  65.87459619, 139.0155079 ,\n",
       "        89.80695636,  91.23851397,  74.9440928 , 115.54980712,\n",
       "        67.72204305,  95.7451944 ,  82.09066878, 107.73804996,\n",
       "        89.78389725,  76.38735632,  99.43635543, 108.56663741,\n",
       "       101.33034445, 106.04943795,  87.31355813,  92.74517668,\n",
       "        86.55079104,  92.80893677,  83.73707436,  65.47434795,\n",
       "       103.54852285,  91.96438128,  67.39603306, 109.25564511,\n",
       "        81.85403271, 101.03890792, 114.58181124, 102.57965822,\n",
       "       122.78801369,  75.30348359, 108.04683282,  86.30379818,\n",
       "        82.58405702,  88.4230067 ,  93.76894936, 101.12330684,\n",
       "        76.69700318, 118.01652974, 109.31324879,  69.27512627,\n",
       "       129.76504388, 137.91778352, 123.57559142,  96.40150328,\n",
       "        78.58494757, 121.08903454,  91.93646106, 124.44890141,\n",
       "       104.16549956, 119.53278073, 107.12732794, 114.13146336,\n",
       "       100.21000041, 135.71740988, 102.53824185, 108.03978727,\n",
       "       137.66301394,  73.04481878,  74.59030003, 119.38793416,\n",
       "        76.5375319 , 138.87242371,  91.72762038,  85.05090377,\n",
       "       138.45884053, 129.61029583, 137.35117921, 118.12089317,\n",
       "        82.7754863 , 138.20129906,  94.63993258, 116.04912792,\n",
       "       118.94503936,  96.89979814, 112.28158741, 118.44413343,\n",
       "       107.52851062,  78.01198419, 105.96476348, 126.52771793,\n",
       "        86.10864281,  97.00730919,  91.29692897, 136.98527457,\n",
       "       113.44589514, 108.14923672,  84.60167851, 110.78498383,\n",
       "        86.51334679, 100.63661117,  87.28307843, 113.5286659 ,\n",
       "       111.53181633,  95.83402489, 107.92013425,  78.13876983,\n",
       "        70.17484815, 108.78783403, 103.33346991, 112.70062874,\n",
       "       147.6628955 , 118.88958974,  81.74355549, 122.34032576,\n",
       "        73.68185179,  90.7683079 ,  98.63516789, 134.26685443,\n",
       "        85.10490356,  83.47122923,  98.03094951,  86.73043427,\n",
       "       122.53271844,  78.40136983,  77.05062695,  91.24359911,\n",
       "        90.03935099, 138.59064108, 118.98841614, 101.75102483,\n",
       "        75.49128962, 116.88725953,  79.99569305,  69.10457806,\n",
       "       123.76059585, 106.33885224, 118.41717648, 106.37455306,\n",
       "       117.13661224,  86.97948813,  79.31514316, 113.63189037,\n",
       "        83.93180672,  86.20900444,  90.88934993, 100.34958318,\n",
       "        92.92012177,  72.50097413,  87.12763194,  55.53193696,\n",
       "       112.50462902,  67.95884689,  77.91233321, 101.04330159,\n",
       "        85.20874007, 130.86029191,  74.14286181, 105.34101739,\n",
       "        99.21434364,  76.63813005, 110.46553321,  96.56907338,\n",
       "       115.43581102, 116.47008308, 143.26471899, 126.73055899])"
      ]
     },
     "execution_count": 7,
     "metadata": {},
     "output_type": "execute_result"
    }
   ],
   "source": [
    "# Step 3: Calculating IQR\n",
    "Q1 = np.percentile(data, 25)\n",
    "Q3 = np.percentile(data, 75)\n",
    "\n",
    "IQR = Q3 - Q1\n",
    "\n",
    "# Outlier Critarea 1.5 times the IQR\n",
    "\n",
    "lower_bound = Q1 - 1.5*IQR\n",
    "upper_bound = Q3 + 1.5*IQR\n",
    "\n",
    "\n",
    "outliers = (data < lower_bound) | (data > upper_bound)\n",
    "data_no_outliers = data[~outliers]\n",
    "data_no_outliers"
   ]
  },
  {
   "cell_type": "code",
   "execution_count": 13,
   "metadata": {},
   "outputs": [
    {
     "data": {
      "image/png": "[encoded data removed]",
      "text/plain": [
       "<Figure size 1400x600 with 2 Axes>"
      ]
     },
     "metadata": {},
     "output_type": "display_data"
    }
   ],
   "source": [
    "plt.figure(figsize=(14, 6))\n",
    "plt.subplot(1,2,1)\n",
    "sns.boxplot(data=data)\n",
    "plt.title('Original data with Outliars')\n",
    "\n",
    "plt.subplot(1,2,2)\n",
    "sns.boxplot(data=data_no_outliers)\n",
    "plt.title('Data After Removing Outliers')\n",
    "plt.show()\n"
   ]
  },
  {
   "cell_type": "markdown",
   "metadata": {},
   "source": [
    "# by using K-Mean Clustring"
   ]
  },
  {
   "cell_type": "code",
   "execution_count": 48,
   "metadata": {},
   "outputs": [],
   "source": [
    "# Import library\n",
    "from sklearn.cluster import KMeans"
   ]
  },
  {
   "cell_type": "code",
   "execution_count": 49,
   "metadata": {},
   "outputs": [
    {
     "name": "stdout",
     "output_type": "stream",
     "text": [
      "Data: [[2, 2], [3, 3], [3, 4], [30, 30], [31, 31], [32, 32]]\n",
      "Outliers: [[2, 2], [3, 3], [3, 4]]\n",
      "Data without outliers: [[30, 30], [31, 31], [32, 32]]\n"
     ]
    }
   ],
   "source": [
    "# Sample data\n",
    "data = [[2, 2], [3, 3], [3, 4], [30, 30], [31, 31], [32, 32]]\n",
    "\n",
    "# Create a K-means model with two clusters (normal and outlier)\n",
    "kmeans = KMeans(n_clusters=2, n_init=10)\n",
    "kmeans.fit(data)\n",
    "\n",
    "# Predict cluster labels\n",
    "labels = kmeans.predict(data)\n",
    "\n",
    "# Identify outliers based on cluster labels\n",
    "outliers = [data[i] for i, label in enumerate(labels) if label == 1]\n",
    "\n",
    "# print data\n",
    "print(\"Data:\", data)\n",
    "print(\"Outliers:\", outliers)\n",
    "# Remove outliers\n",
    "data = [data[i] for i, label in enumerate(labels) if label == 0]\n",
    "print(\"Data without outliers:\", data)"
   ]
  },
  {
   "cell_type": "code",
   "execution_count": null,
   "metadata": {},
   "outputs": [],
   "source": []
  }
 ],
 "metadata": {
  "kernelspec": {
   "display_name": "python_ml",
   "language": "python",
   "name": "python3"
  },
  "language_info": {
   "codemirror_mode": {
    "name": "ipython",
    "version": 3
   },
   "file_extension": ".py",
   "mimetype": "text/x-python",
   "name": "python",
   "nbconvert_exporter": "python",
   "pygments_lexer": "ipython3",
   "version": "3.11.9"
  }
 },
 "nbformat": 4,
 "nbformat_minor": 2
}
